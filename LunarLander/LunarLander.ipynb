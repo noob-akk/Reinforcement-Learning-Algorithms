{
 "cells": [
  {
   "cell_type": "code",
   "execution_count": 1,
   "metadata": {},
   "outputs": [
    {
     "name": "stderr",
     "output_type": "stream",
     "text": [
      "Using TensorFlow backend.\n"
     ]
    }
   ],
   "source": [
    "import gym\n",
    "import random\n",
    "import numpy as np\n",
    "from QNNAgent import QNNAgent\n",
    "from matplotlib import pyplot as plt\n",
    "import pylab as pl\n",
    "from IPython import display"
   ]
  },
  {
   "cell_type": "code",
   "execution_count": 2,
   "metadata": {
    "scrolled": true
   },
   "outputs": [
    {
     "name": "stdout",
     "output_type": "stream",
     "text": [
      "WARNING:tensorflow:From /home/a-koneti/virtual-envs/tf-gpu-pip3/lib/python3.5/site-packages/tensorflow/python/framework/op_def_library.py:263: colocate_with (from tensorflow.python.framework.ops) is deprecated and will be removed in a future version.\n",
      "Instructions for updating:\n",
      "Colocations handled automatically by placer.\n",
      "_________________________________________________________________\n",
      "Layer (type)                 Output Shape              Param #   \n",
      "=================================================================\n",
      "dense_1 (Dense)              (None, 21)                273       \n",
      "_________________________________________________________________\n",
      "dense_2 (Dense)              (None, 14)                308       \n",
      "_________________________________________________________________\n",
      "dense_3 (Dense)              (None, 6)                 90        \n",
      "_________________________________________________________________\n",
      "dense_4 (Dense)              (None, 1)                 7         \n",
      "=================================================================\n",
      "Total params: 678\n",
      "Trainable params: 678\n",
      "Non-trainable params: 0\n",
      "_________________________________________________________________\n"
     ]
    },
    {
     "name": "stderr",
     "output_type": "stream",
     "text": [
      "/home/a-koneti/virtual-envs/tf-gpu-pip3/lib/python3.5/site-packages/gym/logger.py:30: UserWarning: \u001b[33mWARN: Box bound precision lowered by casting to float32\u001b[0m\n",
      "  warnings.warn(colorize('%s: %s'%('WARN', msg % args), 'yellow'))\n"
     ]
    }
   ],
   "source": [
    "env = gym.make('LunarLander-v2')\n",
    "agent = QNNAgent(env.observation_space.shape[0], \n",
    "                env.action_space.n)"
   ]
  },
  {
   "cell_type": "code",
   "execution_count": 3,
   "metadata": {},
   "outputs": [
    {
     "data": {
      "image/png": "[encoded data removed]",
      "text/plain": [
       "<Figure size 432x288 with 1 Axes>"
      ]
     },
     "metadata": {},
     "output_type": "display_data"
    },
    {
     "data": {
      "image/png": "[encoded data removed]",
      "text/plain": [
       "<Figure size 432x288 with 1 Axes>"
      ]
     },
     "metadata": {
      "needs_background": "light"
     },
     "output_type": "display_data"
    }
   ],
   "source": [
    "%matplotlib inline\n",
    "def one_hot(x, max_val = env.action_space.n):\n",
    "    vec = [0]*max_val\n",
    "    vec[x] = 1\n",
    "    return vec\n",
    "\n",
    "def learning_rate(epoch, decay_rate=0.005):\n",
    "    max_epsilon = 5e-2\n",
    "    min_epsilon = 5e-4\n",
    "    return min_epsilon + (max_epsilon - min_epsilon)*np.exp(-decay_rate*epoch)\n",
    "\n",
    "gamma = 0.99\n",
    "max_epsilon = 0.99\n",
    "min_epsilon = 0.1\n",
    "max_so_far = -999.\n",
    "decay_rate = 0.007\n",
    "avg_rewards = []\n",
    "for epoch in range(1000):\n",
    "    X = []\n",
    "    Y = []\n",
    "    cum_rewards = []\n",
    "    epsilon = min_epsilon + (max_epsilon - min_epsilon)*np.exp(-decay_rate*epoch)\n",
    "    for i_episode in range(15):\n",
    "        observation = env.reset()\n",
    "        cum_reward = 0.\n",
    "        for t in range(3000):\n",
    "            # picking e-greedy action\n",
    "#             env.render()\n",
    "            action = agent.eps_greedy_action(observation, epsilon=epsilon)\n",
    "            X_ = list(observation) + one_hot(action)\n",
    "\n",
    "            #step\n",
    "            observation, reward, done, info = env.step(action)\n",
    "\n",
    "            #computing target qValue\n",
    "            qVal = agent.action_value(observation, action)\n",
    "            target = reward + gamma*agent.max_action_value(observation)\n",
    "            cum_reward += reward\n",
    "            if done:\n",
    "                break\n",
    "            X += [X_]\n",
    "            Y += [target]\n",
    "        cum_rewards += [cum_reward]\n",
    "    agent.train(np.array(X),np.array(Y), epochs=10, lr=learning_rate(epoch))\n",
    "    display.clear_output(wait=True)\n",
    "    display.display(plt.gcf())\n",
    "    if np.mean(cum_rewards) > max_so_far:\n",
    "        max_so_far = np.mean(cum_rewards)\n",
    "        agent.QNN.Qmodel.save_weights(\"./max_so_far/val_%d.hdf5\"%int(max_so_far))\n",
    "    avg_rewards += [np.mean(cum_rewards)]\n",
    "    plt.title(\"Eps: %.2f\"%epsilon)\n",
    "    plt.plot(avg_rewards, 'b')\n",
    "env.close()"
   ]
  },
  {
   "cell_type": "code",
   "execution_count": 24,
   "metadata": {},
   "outputs": [],
   "source": [
    "env = gym.wrappers.Monitor(env, './video/',video_callable=lambda episode_id: True,force = True)"
   ]
  },
  {
   "cell_type": "code",
   "execution_count": 25,
   "metadata": {},
   "outputs": [
    {
     "name": "stdout",
     "output_type": "stream",
     "text": [
      "Episode finished after 527 timesteps\n",
      "Episode finished after 360 timesteps\n",
      "Episode finished after 353 timesteps\n",
      "Episode finished after 335 timesteps\n",
      "Episode finished after 588 timesteps\n",
      "-126.57584458691636\n"
     ]
    }
   ],
   "source": [
    "cum_rewards = []\n",
    "for i_episode in range(5):\n",
    "    observation = env.reset()\n",
    "    cum_reward = 0.\n",
    "    for t in range(1000):\n",
    "        # picking greedy action\n",
    "        env.render()\n",
    "        action = agent.best_action(observation)\n",
    "\n",
    "        #step\n",
    "        observation, reward, done, info = env.step(action)\n",
    "        cum_reward += reward\n",
    "        if done:\n",
    "            print(\"Episode finished after {} timesteps\".format(t+1))\n",
    "            break\n",
    "\n",
    "    cum_rewards += [cum_reward]\n",
    "env.close()\n",
    "print(np.mean(cum_rewards))\n"
   ]
  },
  {
   "cell_type": "code",
   "execution_count": 1,
   "metadata": {},
   "outputs": [],
   "source": [
    "# for i_episode in range(10):\n",
    "#     observation = env.reset()\n",
    "#     for t in range(1000):\n",
    "#         env.render()\n",
    "#         action = agent.eps_greedy_action(list(observation), epsilon=0.5)\n",
    "#         observation, reward, done, info = env.step(action)\n",
    "#         if done:\n",
    "#             print(\"Episode finished after {} timesteps\".format(t+1))\n",
    "#             break\n",
    "# env.close()"
   ]
  },
  {
   "cell_type": "code",
   "execution_count": null,
   "metadata": {},
   "outputs": [],
   "source": []
  }
 ],
 "metadata": {
  "kernelspec": {
   "display_name": "Python 3",
   "language": "python",
   "name": "python3"
  },
  "language_info": {
   "codemirror_mode": {
    "name": "ipython",
    "version": 3
   },
   "file_extension": ".py",
   "mimetype": "text/x-python",
   "name": "python",
   "nbconvert_exporter": "python",
   "pygments_lexer": "ipython3",
   "version": "3.5.2"
  }
 },
 "nbformat": 4,
 "nbformat_minor": 2
}
