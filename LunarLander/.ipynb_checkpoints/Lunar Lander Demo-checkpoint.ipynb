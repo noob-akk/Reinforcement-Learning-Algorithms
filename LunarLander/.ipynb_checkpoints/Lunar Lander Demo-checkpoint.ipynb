{
 "cells": [
  {
   "cell_type": "code",
   "execution_count": 1,
   "metadata": {},
   "outputs": [
    {
     "name": "stderr",
     "output_type": "stream",
     "text": [
      "Using TensorFlow backend.\n"
     ]
    }
   ],
   "source": [
    "import gym\n",
    "import random\n",
    "import numpy as np\n",
    "from QNNAgent import QNNAgent\n",
    "from matplotlib import pyplot as plt\n",
    "import pylab as pl\n",
    "from IPython import display"
   ]
  },
  {
   "cell_type": "code",
   "execution_count": 2,
   "metadata": {},
   "outputs": [
    {
     "name": "stdout",
     "output_type": "stream",
     "text": [
      "WARNING:tensorflow:From /home/a-koneti/virtual-envs/tf-gpu-pip3/lib/python3.5/site-packages/tensorflow/python/framework/op_def_library.py:263: colocate_with (from tensorflow.python.framework.ops) is deprecated and will be removed in a future version.\n",
      "Instructions for updating:\n",
      "Colocations handled automatically by placer.\n",
      "_________________________________________________________________\n",
      "Layer (type)                 Output Shape              Param #   \n",
      "=================================================================\n",
      "dense_1 (Dense)              (None, 21)                273       \n",
      "_________________________________________________________________\n",
      "dense_2 (Dense)              (None, 14)                308       \n",
      "_________________________________________________________________\n",
      "dense_3 (Dense)              (None, 6)                 90        \n",
      "_________________________________________________________________\n",
      "dense_4 (Dense)              (None, 1)                 7         \n",
      "=================================================================\n",
      "Total params: 678\n",
      "Trainable params: 678\n",
      "Non-trainable params: 0\n",
      "_________________________________________________________________\n"
     ]
    },
    {
     "name": "stderr",
     "output_type": "stream",
     "text": [
      "/home/a-koneti/virtual-envs/tf-gpu-pip3/lib/python3.5/site-packages/gym/logger.py:30: UserWarning: \u001b[33mWARN: Box bound precision lowered by casting to float32\u001b[0m\n",
      "  warnings.warn(colorize('%s: %s'%('WARN', msg % args), 'yellow'))\n"
     ]
    }
   ],
   "source": [
    "env = gym.make('LunarLander-v2')\n",
    "agent = QNNAgent(env.observation_space.shape[0], \n",
    "                env.action_space.n)"
   ]
  },
  {
   "cell_type": "code",
   "execution_count": 3,
   "metadata": {},
   "outputs": [],
   "source": [
    "agent.QNN.Qmodel.load_weights(\"./eps1e3_backup.hdf5\")"
   ]
  },
  {
   "cell_type": "code",
   "execution_count": 10,
   "metadata": {},
   "outputs": [],
   "source": [
    "env = gym.wrappers.Monitor(env, './video/',video_callable=lambda episode_id: True,force = True)"
   ]
  },
  {
   "cell_type": "code",
   "execution_count": 11,
   "metadata": {},
   "outputs": [
    {
     "name": "stdout",
     "output_type": "stream",
     "text": [
      "Episode finished after 261 timesteps\n",
      "24.924725315686402 -100\n",
      "Episode finished after 576 timesteps\n",
      "-300.8981475744764 -100\n",
      "Episode finished after 331 timesteps\n",
      "260.0317791068155 100\n",
      "Episode finished after 245 timesteps\n",
      "-8.094739639299107 -100\n",
      "Episode finished after 239 timesteps\n",
      "-250.58992699366007 -100\n",
      "-54.925261956986745\n"
     ]
    }
   ],
   "source": [
    "cum_rewards = []\n",
    "for i_episode in range(50):\n",
    "    observation = env.reset()\n",
    "    cum_reward = 0.\n",
    "    for t in range(1000):\n",
    "        # picking greedy action\n",
    "        env.render()\n",
    "        action = agent.best_action(observation)\n",
    "\n",
    "        #step\n",
    "        observation, reward, done, info = env.step(action)\n",
    "        cum_reward += reward\n",
    "        if done:\n",
    "            print(\"Episode finished after {} timesteps\".format(t+1), cum_reward, reward)\n",
    "            break\n",
    "\n",
    "    cum_rewards += [cum_reward]\n",
    "env.close()\n",
    "print(np.mean(cum_rewards))\n"
   ]
  },
  {
   "cell_type": "code",
   "execution_count": null,
   "metadata": {},
   "outputs": [],
   "source": []
  }
 ],
 "metadata": {
  "kernelspec": {
   "display_name": "Python 3",
   "language": "python",
   "name": "python3"
  },
  "language_info": {
   "codemirror_mode": {
    "name": "ipython",
    "version": 3
   },
   "file_extension": ".py",
   "mimetype": "text/x-python",
   "name": "python",
   "nbconvert_exporter": "python",
   "pygments_lexer": "ipython3",
   "version": "3.5.2"
  }
 },
 "nbformat": 4,
 "nbformat_minor": 2
}
